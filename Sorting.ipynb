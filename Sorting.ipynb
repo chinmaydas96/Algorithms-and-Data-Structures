{
 "cells": [
  {
   "cell_type": "markdown",
   "metadata": {},
   "source": [
    "# <center><span style=\"color: Green\">Order Statistics</span></center>"
   ]
  },
  {
   "cell_type": "markdown",
   "metadata": {},
   "source": [
    "# <span style=\"color: #CD1693\">1.Linear Search</span>\n",
    "\n",
    "![linear_search](linear-search.png)\n",
    "\n",
    "___\n",
    "\n",
    "### Recurrence Relation - T(n)\n",
    "    It is an equation recursively defining the sequence of values.\n",
    "    c = constant amount of work\n",
    "***    \n",
    "\n",
    "* Solution is **Recursive solution**.\n",
    "* **Best**  case scenerio - Runtime  - **O(1)**\n",
    "*                         - T(0) = c\n",
    "* **Worst** case scenerio - Runtime  -**O(n)**\n",
    "*                         - T(n) = T(n-1) + c"
   ]
  },
  {
   "cell_type": "markdown",
   "metadata": {},
   "source": [
    "### Implementation of Linear Search in both Recursive and Iterative solution."
   ]
  },
  {
   "cell_type": "code",
   "execution_count": 6,
   "metadata": {},
   "outputs": [
    {
     "name": "stdout",
     "output_type": "stream",
     "text": [
      "9\n",
      "9\n",
      "9\n"
     ]
    }
   ],
   "source": [
    "array = [56,3,249,518,7,26,94,651,23,9]\n",
    "x = 9\n",
    "\n",
    "\n",
    "\n",
    "\n",
    "# Recursive Solution\n",
    "\n",
    "low = 0\n",
    "high = len(array)\n",
    "\n",
    "def LinearSearch(array,low,high,x):\n",
    "    if (high <= low):\n",
    "        return 'Not Found'\n",
    "    elif (array[low]==x):\n",
    "        return low\n",
    "    return LinearSearch(array,low+1,high,x)\n",
    "\n",
    "print LinearSearch(array,low,high,x)\n",
    "\n",
    "\n",
    "\n",
    "\n",
    "# Iterative Solution\n",
    "\n",
    "def linear_search(array,x):\n",
    "    print(x)\n",
    "    for i in range(len(array)):\n",
    "        if (x == array[i]):\n",
    "            return i\n",
    "    return \"Not Found\"    \n",
    "\n",
    "print linear_search(array,x)         "
   ]
  },
  {
   "cell_type": "markdown",
   "metadata": {},
   "source": [
    "# <span style=\"color: BLue\">2.Binary Search</span>\n",
    "\n",
    "![binary_search](binary-search.png)\n",
    "\n",
    "---\n",
    "## Algorithm-\n",
    "\n",
    "![binary_search_algo](binarysearch.jpg)\n",
    "\n",
    "---\n",
    "* Solution is **Recursive solution**.\n",
    "* **Best**  case scenerio - Runtime  - **O(1)**\n",
    "*                         - T(0) = c\n",
    "* **Worst** case scenerio - Runtime  -**O[log(n)]**\n",
    "*                         - T(n) = T(n/2) + c\n"
   ]
  },
  {
   "cell_type": "code",
   "execution_count": 7,
   "metadata": {},
   "outputs": [
    {
     "name": "stdout",
     "output_type": "stream",
     "text": [
      "2\n",
      "2\n"
     ]
    }
   ],
   "source": [
    "a = [2,5,8,12,16,23,38,56,72,91]\n",
    "x = 7\n",
    "low = 0\n",
    "high = len(a)\n",
    "\n",
    "\n",
    "\n",
    "# Recursive program\n",
    "\n",
    "def BinarySearch(a,low,high,x):\n",
    "    if high < low :\n",
    "        return low\n",
    "    mid = low + (high -low)/2\n",
    "    \n",
    "    if (x == a[mid]):\n",
    "        return mid\n",
    "    \n",
    "    elif(x < a[mid]):\n",
    "        return BinarySearch(a,low,mid-1,x)\n",
    "    else:\n",
    "        return BinarySearch(a,mid+1,high,x)\n",
    "    \n",
    "print BinarySearch(a,low,high,x)\n",
    "\n",
    "\n",
    "# iterative program\n",
    "\n",
    "def binary_search(a,high,low,x):\n",
    "    while (low <= high):\n",
    "        mid = low + (high - low)/2\n",
    "        \n",
    "        if x == a[mid]:\n",
    "            return mid\n",
    "        elif (x < a[mid]):\n",
    "            high = mid - 1\n",
    "        else:\n",
    "            low = mid + 1\n",
    "      \n",
    "    return low\n",
    "\n",
    "print binary_search(a,high,low,x)            \n",
    "            "
   ]
  },
  {
   "cell_type": "markdown",
   "metadata": {},
   "source": [
    "# <span style=\"color: #CD3616\">3.Insertion Sort</span>\n",
    "![binary_search](insertionsort.png)\n",
    "\n",
    "---\n",
    "\n",
    "### Example - Sort a hand of playing card \n",
    "\n",
    "![playing_card](card.jpg)\n",
    "\n",
    "## Algorithm-\n",
    "\n",
    "### Nondecreasing order\n",
    "\n",
    "![binary_search](algoinsertoin.png)\n",
    "\n",
    "### Nonincreasing order\n",
    "\n",
    "![binary_search](reverseinsertion.png)"
   ]
  },
  {
   "cell_type": "code",
   "execution_count": 14,
   "metadata": {
    "collapsed": true
   },
   "outputs": [],
   "source": [
    "# n = int(input())\n",
    "# a = [int(i) for i in input().split()]\n",
    "\n",
    "a = [54,26,93,17,77,31,44,55,20]\n",
    "\n",
    "def insertionSort(a):\n",
    "    for j in range(1,len(a)):\n",
    "        key = a[j]\n",
    "        i = j - 1\n",
    "        while (i >=  0) and (a[i] < key):\n",
    "            a[i+1] = a[i]\n",
    "            i -= 1\n",
    "        a[i + 1] = key        \n",
    "    return a"
   ]
  },
  {
   "cell_type": "code",
   "execution_count": 15,
   "metadata": {},
   "outputs": [
    {
     "data": {
      "text/plain": [
       "[93, 77, 55, 54, 44, 31, 26, 20, 17]"
      ]
     },
     "execution_count": 15,
     "metadata": {},
     "output_type": "execute_result"
    }
   ],
   "source": [
    "insertionSort(a)"
   ]
  },
  {
   "cell_type": "code",
   "execution_count": 16,
   "metadata": {},
   "outputs": [
    {
     "data": {
      "text/plain": [
       "[17, 20, 26, 31, 44, 54, 55, 77, 93]"
      ]
     },
     "execution_count": 16,
     "metadata": {},
     "output_type": "execute_result"
    }
   ],
   "source": [
    "(list(reversed(insertionSort(a))))"
   ]
  },
  {
   "cell_type": "code",
   "execution_count": null,
   "metadata": {
    "collapsed": true
   },
   "outputs": [],
   "source": []
  }
 ],
 "metadata": {
  "kernelspec": {
   "display_name": "bat",
   "language": "python",
   "name": "bat"
  },
  "language_info": {
   "codemirror_mode": {
    "name": "ipython",
    "version": 2
   },
   "file_extension": ".py",
   "mimetype": "text/x-python",
   "name": "python",
   "nbconvert_exporter": "python",
   "pygments_lexer": "ipython2",
   "version": "2.7.13"
  }
 },
 "nbformat": 4,
 "nbformat_minor": 2
}
