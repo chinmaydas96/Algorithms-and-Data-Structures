{
 "cells": [
  {
   "cell_type": "markdown",
   "metadata": {},
   "source": [
    "# <center><span style=\"color: Green\">Order Statistics</span></center>"
   ]
  },
  {
   "cell_type": "markdown",
   "metadata": {},
   "source": [
    "# <span style=\"color: Blue\">1.Linear Search</span>\n",
    "\n",
    "![linear_search](linear-search.png)\n",
    "\n",
    "___\n",
    "\n",
    "### Recurrence Relation - T(n)\n",
    "    It is an equation recursively defining the sequence of values.\n",
    "    c = constant amount of work\n",
    "***    \n",
    "\n",
    "* Solution is **Recursive solution**.\n",
    "* **Best**  case scenerio - Runtime  - **O(1)**\n",
    "*                         - T(n) = c\n",
    "* **Worst** case scenerio - Runtime  -**O(n)**\n",
    "*                         - T(n) = T(n-1) + c"
   ]
  },
  {
   "cell_type": "markdown",
   "metadata": {},
   "source": [
    "### Implementation of Linear Search in both Recursive and Iterative solution."
   ]
  },
  {
   "cell_type": "code",
   "execution_count": 21,
   "metadata": {},
   "outputs": [
    {
     "name": "stdout",
     "output_type": "stream",
     "text": [
      "9\n",
      "9\n",
      "9\n"
     ]
    }
   ],
   "source": [
    "array = [56,3,249,518,7,26,94,651,23,9]\n",
    "x = 9\n",
    "\n",
    "\n",
    "\n",
    "\n",
    "# Recursive Solution\n",
    "\n",
    "low = 0\n",
    "high = len(array)\n",
    "\n",
    "def LinearSearch(array,low,high,x):\n",
    "    if (high <= low):\n",
    "        return 'Not Found'\n",
    "    elif (array[low]==x):\n",
    "        return low\n",
    "    return LinearSearch(array,low+1,high,x)\n",
    "\n",
    "print LinearSearch(array,low,high,x)\n",
    "\n",
    "\n",
    "\n",
    "\n",
    "# Iterative Solution\n",
    "\n",
    "def linear_search(array,x):\n",
    "    print(x)\n",
    "    for i in range(len(array)):\n",
    "        if (x == array[i]):\n",
    "            return i\n",
    "    return \"Not Found\"    \n",
    "\n",
    "print linear_search(array,x)         "
   ]
  },
  {
   "cell_type": "code",
   "execution_count": null,
   "metadata": {
    "collapsed": true
   },
   "outputs": [],
   "source": []
  }
 ],
 "metadata": {
  "kernelspec": {
   "display_name": "bat",
   "language": "python",
   "name": "bat"
  },
  "language_info": {
   "codemirror_mode": {
    "name": "ipython",
    "version": 2
   },
   "file_extension": ".py",
   "mimetype": "text/x-python",
   "name": "python",
   "nbconvert_exporter": "python",
   "pygments_lexer": "ipython2",
   "version": "2.7.13"
  }
 },
 "nbformat": 4,
 "nbformat_minor": 2
}
