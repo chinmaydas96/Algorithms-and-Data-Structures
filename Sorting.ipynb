{
 "cells": [
  {
   "cell_type": "markdown",
   "metadata": {},
   "source": [
    "# <center><span style=\"color: Green\">Order Statistics</span></center>"
   ]
  },
  {
   "cell_type": "markdown",
   "metadata": {},
   "source": [
    "# <span style=\"color: Blue\">1.Linear Search</span>\n",
    "\n",
    "![linear_search](linear-search.png)\n",
    "\n",
    "___\n",
    "\n",
    "* Best case scenerio - O(1)\n",
    "* Worst case scenerio - O(n)\n"
   ]
  },
  {
   "cell_type": "code",
   "execution_count": 6,
   "metadata": {},
   "outputs": [
    {
     "name": "stdout",
     "output_type": "stream",
     "text": [
      "9\n"
     ]
    },
    {
     "data": {
      "text/plain": [
       "8"
      ]
     },
     "execution_count": 6,
     "metadata": {},
     "output_type": "execute_result"
    }
   ],
   "source": [
    "array = [56,3,249,518,7,26,94,651,23,9]\n",
    "x = 9\n",
    "\n",
    "def linear_search(array,x):\n",
    "    print(x)\n",
    "    for i in range(len(array)):\n",
    "        if (x == array[i]):\n",
    "            return i\n",
    "    return -1    \n",
    "linear_search(array,x)        \n",
    "            "
   ]
  }
 ],
 "metadata": {
  "kernelspec": {
   "display_name": "bat",
   "language": "python",
   "name": "bat"
  },
  "language_info": {
   "codemirror_mode": {
    "name": "ipython",
    "version": 2
   },
   "file_extension": ".py",
   "mimetype": "text/x-python",
   "name": "python",
   "nbconvert_exporter": "python",
   "pygments_lexer": "ipython2",
   "version": "2.7.13"
  }
 },
 "nbformat": 4,
 "nbformat_minor": 2
}
